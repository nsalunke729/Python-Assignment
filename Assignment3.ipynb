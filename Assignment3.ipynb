{
  "nbformat": 4,
  "nbformat_minor": 0,
  "metadata": {
    "colab": {
      "name": "Assignment3",
      "provenance": []
    },
    "kernelspec": {
      "name": "python3",
      "display_name": "Python 3"
    }
  },
  "cells": [
    {
      "cell_type": "markdown",
      "metadata": {
        "id": "u7-6Jj_Qw495",
        "colab_type": "text"
      },
      "source": [
        "Question 1:\n"
      ]
    },
    {
      "cell_type": "code",
      "metadata": {
        "colab_type": "code",
        "id": "mGxbIf0xw9_D",
        "colab": {
          "base_uri": "https://localhost:8080/",
          "height": 122
        },
        "outputId": "3ed876e5-73e9-4b80-84d4-2afb0dc4e39b"
      },
      "source": [
        "end=0;\n",
        "while end!=1 :\n",
        "   i=int(input(\"Enter marks in between 0 to 100:\"));\n",
        "   if i in range(0,101):\n",
        "     if i>85:\n",
        "       print(\"A\");\n",
        "     elif i>70:\n",
        "       print(\"B\");\n",
        "     elif i>60:\n",
        "       print(\"C\");\n",
        "     elif i>50:\n",
        "       print(\"D\");\n",
        "     elif i>40:\n",
        "       print(\"E\");\n",
        "     else:\n",
        "       print(\"Fail\")\n",
        "   end=int(input(\"Press 1 to exit\"))\n"
      ],
      "execution_count": 3,
      "outputs": [
        {
          "output_type": "stream",
          "text": [
            "Enter marks in between 0 to 100:4\n",
            "Fail\n",
            "Press 1 to exit0\n",
            "Enter marks in between 0 to 100:755\n",
            "Press 1 to exit1\n"
          ],
          "name": "stdout"
        }
      ]
    },
    {
      "cell_type": "markdown",
      "metadata": {
        "id": "qTL0woF33Eh6",
        "colab_type": "text"
      },
      "source": [
        "Question 2:"
      ]
    },
    {
      "cell_type": "code",
      "metadata": {
        "colab_type": "code",
        "id": "22noWRRTw-Ob",
        "colab": {
          "base_uri": "https://localhost:8080/",
          "height": 243
        },
        "outputId": "89b881ae-9eac-4f3c-fa7f-06ee40f566fb"
      },
      "source": [
        "import random;\n",
        "end=0;\n",
        "while end!=1:\n",
        "  score=random.randrange(1,251);\n",
        "  guess=int(input(\"guess India's score:\"))\n",
        "  if 1>guess or guess>250:\n",
        "    print(\"Reduce your expectation for 20-20 match\")\n",
        "  elif -10<score-guess<10:\n",
        "    print(\"Close by, you are True Indian\")\n",
        "  else:\n",
        "    print(\"You don't watch that match! :-p\")\n",
        "  end=int(input(\"enter 1 to exit:\"))"
      ],
      "execution_count": 0,
      "outputs": [
        {
          "output_type": "stream",
          "text": [
            "guess India's score:300\n",
            "Reduce your expectation for 20-20 match\n",
            "enter 1 to exit:5\n",
            "guess India's score:0\n",
            "Reduce your expectation for 20-20 match\n",
            "enter 1 to exit:8\n",
            "guess India's score:201\n",
            "You don't watch that match! :-p\n",
            "enter 1 to exit:5\n",
            "guess India's score:68\n",
            "Close by, you are True Indian\n"
          ],
          "name": "stdout"
        }
      ]
    },
    {
      "cell_type": "code",
      "metadata": {
        "id": "aCxXPLjNwePc",
        "colab_type": "code",
        "colab": {}
      },
      "source": [
        ""
      ],
      "execution_count": 0,
      "outputs": []
    }
  ]
}