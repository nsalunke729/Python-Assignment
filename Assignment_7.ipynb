{
  "nbformat": 4,
  "nbformat_minor": 0,
  "metadata": {
    "colab": {
      "name": "Assignment 7.ipynb",
      "provenance": [],
      "authorship_tag": "ABX9TyNRXzDK2qQqeXH06zDVuPd7",
      "include_colab_link": true
    },
    "kernelspec": {
      "name": "python3",
      "display_name": "Python 3"
    }
  },
  "cells": [
    {
      "cell_type": "markdown",
      "metadata": {
        "id": "view-in-github",
        "colab_type": "text"
      },
      "source": [
        "<a href=\"https://colab.research.google.com/github/nsalunke729/Python-Assignment/blob/master/Assignment_7.ipynb\" target=\"_parent\"><img src=\"https://colab.research.google.com/assets/colab-badge.svg\" alt=\"Open In Colab\"/></a>"
      ]
    },
    {
      "cell_type": "markdown",
      "metadata": {
        "id": "xk3wwcxk--zc",
        "colab_type": "text"
      },
      "source": [
        "#Question 2:"
      ]
    },
    {
      "cell_type": "code",
      "metadata": {
        "id": "xG-tIpTS_Ian",
        "colab_type": "code",
        "colab": {
          "base_uri": "https://localhost:8080/",
          "height": 51
        },
        "outputId": "0e7766ae-891f-4657-ebaa-0ea3e5a3b4ea"
      },
      "source": [
        "def adddigi(x):\n",
        "  sum=x%10\n",
        "  while x>=10 :\n",
        "      x=int(x/10)\n",
        "      sum+=x%10\n",
        "  if sum>=10:\n",
        "    sum=adddigi(sum);\n",
        "  return sum;\n",
        "a=int(input(\"enter number :\"))\n",
        "print(\"Sum of digits in\",a,\" is :\", adddigi(a))"
      ],
      "execution_count": 13,
      "outputs": [
        {
          "output_type": "stream",
          "text": [
            "enter number :74999\n",
            "Sum of digits in 74999  is : 2\n"
          ],
          "name": "stdout"
        }
      ]
    },
    {
      "cell_type": "markdown",
      "metadata": {
        "id": "PKoiQaPtI0OM",
        "colab_type": "text"
      },
      "source": [
        "# Question 1:"
      ]
    },
    {
      "cell_type": "markdown",
      "metadata": {
        "id": "hzyQONdhMdPm",
        "colab_type": "text"
      },
      "source": [
        "#map():\n",
        "new example"
      ]
    },
    {
      "cell_type": "code",
      "metadata": {
        "id": "RF2cdOQDI_jj",
        "colab_type": "code",
        "colab": {
          "base_uri": "https://localhost:8080/",
          "height": 34
        },
        "outputId": "5ab5162f-a197-4e74-968b-ba36c10275b8"
      },
      "source": [
        "l=[1,2,4,5]\n",
        "list(map(lambda x: x+2, l)) "
      ],
      "execution_count": 17,
      "outputs": [
        {
          "output_type": "execute_result",
          "data": {
            "text/plain": [
              "[3, 4, 6, 7]"
            ]
          },
          "metadata": {
            "tags": []
          },
          "execution_count": 17
        }
      ]
    },
    {
      "cell_type": "markdown",
      "metadata": {
        "id": "-ZQWyy_7otK6",
        "colab_type": "text"
      },
      "source": [
        "#filter()"
      ]
    },
    {
      "cell_type": "code",
      "metadata": {
        "id": "XfY94o5zqS4N",
        "colab_type": "code",
        "colab": {
          "base_uri": "https://localhost:8080/",
          "height": 68
        },
        "outputId": "b5b8d8a7-178d-4e70-cd8e-821a6f20e223"
      },
      "source": [
        "def big(a):\n",
        "  if a>5:\n",
        "    return a**2;\n",
        "x=filter(big,[1,3,6,9])\n",
        "print(x)\n",
        "print(type(x))\n",
        "print(list(x))"
      ],
      "execution_count": 3,
      "outputs": [
        {
          "output_type": "stream",
          "text": [
            "<filter object at 0x7ffb70604c50>\n",
            "<class 'filter'>\n",
            "[6, 9]\n"
          ],
          "name": "stdout"
        }
      ]
    },
    {
      "cell_type": "code",
      "metadata": {
        "id": "R6mJ1aQYq4wo",
        "colab_type": "code",
        "colab": {
          "base_uri": "https://localhost:8080/",
          "height": 34
        },
        "outputId": "7293b103-e92d-4a2d-dd29-c86bee2f376d"
      },
      "source": [
        "x=filter(lambda x: x>5,[1,3,6,9])\n",
        "print(list(x))"
      ],
      "execution_count": 6,
      "outputs": [
        {
          "output_type": "stream",
          "text": [
            "[6, 9]\n"
          ],
          "name": "stdout"
        }
      ]
    },
    {
      "cell_type": "code",
      "metadata": {
        "id": "oesi6g9Hrsg0",
        "colab_type": "code",
        "colab": {
          "base_uri": "https://localhost:8080/",
          "height": 34
        },
        "outputId": "16a9ecf8-0db0-468e-cfef-0689527b7dbb"
      },
      "source": [
        "print(list(filter(lambda a: a<5, [1,3,4,6,7])))"
      ],
      "execution_count": 8,
      "outputs": [
        {
          "output_type": "stream",
          "text": [
            "[1, 3, 4]\n"
          ],
          "name": "stdout"
        }
      ]
    },
    {
      "cell_type": "markdown",
      "metadata": {
        "id": "ONhak3D9sF-V",
        "colab_type": "text"
      },
      "source": [
        "#reduce()"
      ]
    },
    {
      "cell_type": "code",
      "metadata": {
        "id": "kQelmQbosJWx",
        "colab_type": "code",
        "colab": {
          "base_uri": "https://localhost:8080/",
          "height": 34
        },
        "outputId": "23da9cd3-63e2-45c5-83f7-1a0205419058"
      },
      "source": [
        "from functools import reduce;\n",
        "def fuc(a,n):\n",
        "  return a*n;\n",
        "x=reduce(fuc,[1,2,3,4])\n",
        "print(x)"
      ],
      "execution_count": 10,
      "outputs": [
        {
          "output_type": "stream",
          "text": [
            "24\n"
          ],
          "name": "stdout"
        }
      ]
    },
    {
      "cell_type": "code",
      "metadata": {
        "id": "OMd51YpVtHcx",
        "colab_type": "code",
        "colab": {
          "base_uri": "https://localhost:8080/",
          "height": 34
        },
        "outputId": "717bed39-2ddd-4f52-ac82-31ec25133af7"
      },
      "source": [
        "reduce(lambda x,y: x*y, [1,2,3,4])"
      ],
      "execution_count": 11,
      "outputs": [
        {
          "output_type": "execute_result",
          "data": {
            "text/plain": [
              "24"
            ]
          },
          "metadata": {
            "tags": []
          },
          "execution_count": 11
        }
      ]
    },
    {
      "cell_type": "code",
      "metadata": {
        "id": "eD87bVjItz-7",
        "colab_type": "code",
        "colab": {
          "base_uri": "https://localhost:8080/",
          "height": 34
        },
        "outputId": "a513cccb-2df5-4117-c34d-b32c8520a6f3"
      },
      "source": [
        "reduce(lambda x,y: x+y, [5,6,7,8])"
      ],
      "execution_count": 12,
      "outputs": [
        {
          "output_type": "execute_result",
          "data": {
            "text/plain": [
              "26"
            ]
          },
          "metadata": {
            "tags": []
          },
          "execution_count": 12
        }
      ]
    },
    {
      "cell_type": "code",
      "metadata": {
        "id": "L6mR4qMOt5Mf",
        "colab_type": "code",
        "colab": {
          "base_uri": "https://localhost:8080/",
          "height": 34
        },
        "outputId": "084d58f3-ea70-49f6-b655-de081744bc2b"
      },
      "source": [
        "x=filter(lambda x:x>3, map(lambda x:x-3,[1,3,5,7]))\n",
        "#print(list(x))\n",
        "print(tuple(x))"
      ],
      "execution_count": 18,
      "outputs": [
        {
          "output_type": "stream",
          "text": [
            "(4,)\n"
          ],
          "name": "stdout"
        }
      ]
    },
    {
      "cell_type": "code",
      "metadata": {
        "id": "O4E4aQPvvKzU",
        "colab_type": "code",
        "colab": {
          "base_uri": "https://localhost:8080/",
          "height": 34
        },
        "outputId": "39ffdc70-a34c-43cd-e8fc-140b384459dc"
      },
      "source": [
        "x=reduce(lambda x,y:x+y, filter(lambda x:x>3, map(lambda x:x-3,[1,3,5,7.9])))\n",
        "print(x)"
      ],
      "execution_count": 22,
      "outputs": [
        {
          "output_type": "stream",
          "text": [
            "4.9\n"
          ],
          "name": "stdout"
        }
      ]
    },
    {
      "cell_type": "code",
      "metadata": {
        "id": "hBiATAuExAQr",
        "colab_type": "code",
        "colab": {
          "base_uri": "https://localhost:8080/",
          "height": 34
        },
        "outputId": "e0974258-3751-435f-b3b4-8525d9ce2043"
      },
      "source": [
        "z=reduce(lambda x,y:x+y, map(lambda x:x+x,filter(lambda x:x>3,[1,4,7,6,2])))\n",
        "print(z)"
      ],
      "execution_count": 24,
      "outputs": [
        {
          "output_type": "stream",
          "text": [
            "34\n"
          ],
          "name": "stdout"
        }
      ]
    },
    {
      "cell_type": "code",
      "metadata": {
        "id": "_6ajziROw__e",
        "colab_type": "code",
        "colab": {}
      },
      "source": [
        ""
      ],
      "execution_count": 0,
      "outputs": []
    }
  ]
}