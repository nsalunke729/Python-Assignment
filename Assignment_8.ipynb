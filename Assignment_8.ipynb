{
  "nbformat": 4,
  "nbformat_minor": 0,
  "metadata": {
    "colab": {
      "name": "Assignment 8",
      "provenance": []
    },
    "kernelspec": {
      "name": "python3",
      "display_name": "Python 3"
    }
  },
  "cells": [
    {
      "cell_type": "code",
      "metadata": {
        "id": "ZlxDl7gr5pK3",
        "colab_type": "code",
        "colab": {
          "base_uri": "https://localhost:8080/",
          "height": 105
        },
        "outputId": "54b864d1-998c-4f97-c8b0-a4a03eb73e77"
      },
      "source": [
        "end=0\n",
        "while end != 1:\n",
        "  a=int(input(\"Enter a number:\"))\n",
        "  x=[]\n",
        "  while a >= 10:\n",
        "    x.append(int(a%10));\n",
        "    a=a/10\n",
        "  x.append(int(a));\n",
        "  count1=x.count(1)\n",
        "  count0=x.count(0)\n",
        "  if (count1)==1 or (count0)==1:\n",
        "    print(\"YES\")\n",
        "  else:\n",
        "    print(\"NO\")\n",
        "  print(list(x),count1,count0)\n",
        "  end=int(input(\"press 1 to exit:\"))"
      ],
      "execution_count": 15,
      "outputs": [
        {
          "output_type": "stream",
          "text": [
            "Enter a number:10000\n",
            "YES\n",
            "[0, 0, 0, 0, 1] 1 4\n",
            "press 1 to exit:1\n"
          ],
          "name": "stdout"
        }
      ]
    }
  ]
}