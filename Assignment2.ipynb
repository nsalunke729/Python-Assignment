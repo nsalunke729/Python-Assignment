{
  "nbformat": 4,
  "nbformat_minor": 0,
  "metadata": {
    "colab": {
      "name": "Assignment2",
      "provenance": []
    },
    "kernelspec": {
      "name": "python3",
      "display_name": "Python 3"
    }
  },
  "cells": [
    {
      "cell_type": "markdown",
      "metadata": {
        "id": "C9syXp1k_3Fv",
        "colab_type": "text"
      },
      "source": [
        "Types of print statement use:"
      ]
    },
    {
      "cell_type": "code",
      "metadata": {
        "id": "T575onFq_hPu",
        "colab_type": "code",
        "colab": {
          "base_uri": "https://localhost:8080/",
          "height": 187
        },
        "outputId": "85d16452-57f2-482b-adfa-26831b97aeea"
      },
      "source": [
        "#1\n",
        "print(1)\n",
        "#2\n",
        "a=1\n",
        "print(a)\n",
        "#3\n",
        "b=3\n",
        "print(a+b)\n",
        "#4\n",
        "print(\"Value of a is : \",a)\n",
        "#5\n",
        "c=1,00,000\n",
        "print(\"It will be tuple & we can't change cause it's immutable\",c)\n",
        "#6\n",
        "d=1+2*2+5\n",
        "print(\"sample of equation '1+2*2+5' ans:\",d)\n",
        "#7\n",
        "s=2-3+2\n",
        "print(s)\n",
        "#8\n",
        "z=1+2**2+6-2\n",
        "print(\"Expression:1+2**2+6-2 /n ans : \",z)\n",
        "#9\n",
        "f=3.1\n",
        "print(f+a*f)\n",
        "f=3.000\n",
        "print(f+a*f)"
      ],
      "execution_count": 33,
      "outputs": [
        {
          "output_type": "stream",
          "text": [
            "1\n",
            "1\n",
            "4\n",
            "Value of a is :  1\n",
            "It will be tuple & we can't change cause it's immutable (1, 0, 0)\n",
            "sample of equation '1+2*2+5' ans: 10\n",
            "1\n",
            "Expression:1+2**2+6-2 /n ans :  9\n",
            "6.2\n",
            "6.0\n"
          ],
          "name": "stdout"
        }
      ]
    },
    {
      "cell_type": "code",
      "metadata": {
        "id": "A0fNBSi5EQhV",
        "colab_type": "code",
        "colab": {
          "base_uri": "https://localhost:8080/",
          "height": 51
        },
        "outputId": "47395316-5946-4360-e86b-eb2ba4b396ab"
      },
      "source": [
        "print(list([1,2,3,2]))\n",
        "print(tuple((1,2,3)))\n",
        "#we can append or pop or delete elements in list"
      ],
      "execution_count": 27,
      "outputs": [
        {
          "output_type": "stream",
          "text": [
            "[1, 2, 3, 2]\n",
            "(1, 2, 3)\n"
          ],
          "name": "stdout"
        }
      ]
    },
    {
      "cell_type": "code",
      "metadata": {
        "id": "cCrXBtLMCK1Q",
        "colab_type": "code",
        "colab": {
          "base_uri": "https://localhost:8080/",
          "height": 136
        },
        "outputId": "cb62a4f5-2a82-4853-920e-1317297ade3d"
      },
      "source": [
        "#sample of string\n",
        "str1=\"I love\"\n",
        "str2=' you'\n",
        "str3=str1+str2\n",
        "print(str1)\n",
        "print(str3)\n",
        "print(str3*2)\n",
        "print(str1+str2)\n",
        "print(str1[0])\n",
        "print(str3[2:])\n",
        "print(str3[2:6])\n",
        "print(str3[-2:-1])\n"
      ],
      "execution_count": 16,
      "outputs": [
        {
          "output_type": "stream",
          "text": [
            "I love\n",
            "I love you\n",
            "I love you\n",
            "I\n",
            "love you\n",
            "love\n",
            "o\n"
          ],
          "name": "stdout"
        }
      ]
    }
  ]
}